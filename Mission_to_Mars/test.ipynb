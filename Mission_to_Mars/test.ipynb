{
 "metadata": {
  "language_info": {
   "codemirror_mode": {
    "name": "ipython",
    "version": 3
   },
   "file_extension": ".py",
   "mimetype": "text/x-python",
   "name": "python",
   "nbconvert_exporter": "python",
   "pygments_lexer": "ipython3",
   "version": "3.6.10-final"
  },
  "orig_nbformat": 2,
  "kernelspec": {
   "name": "python3",
   "display_name": "Python 3.6.10 64-bit ('PythonData': conda)",
   "metadata": {
    "interpreter": {
     "hash": "39cf81ff75551f3ea7268a5731633db08a0e59f6bdbd7d1519c41c672b5e67ae"
    }
   }
  }
 },
 "nbformat": 4,
 "nbformat_minor": 2,
 "cells": [
  {
   "cell_type": "code",
   "execution_count": 1,
   "metadata": {},
   "outputs": [],
   "source": [
    "import pandas as pd\n",
    "from bs4 import BeautifulSoup as bs\n",
    "import requests\n",
    "import pymongo\n",
    "from splinter import Browser\n",
    "from webdriver_manager.chrome import ChromeDriverManager"
   ]
  },
  {
   "cell_type": "code",
   "execution_count": 2,
   "metadata": {},
   "outputs": [
    {
     "output_type": "stream",
     "name": "stderr",
     "text": [
      "[WDM] - ====== WebDriver manager ======\n",
      "\n",
      "\n",
      "[WDM] - Current google-chrome version is 89.0.4389\n",
      "[WDM] - Get LATEST driver version for 89.0.4389\n",
      "[WDM] - Get LATEST driver version for 89.0.4389\n",
      "[WDM] - Trying to download new driver from https://chromedriver.storage.googleapis.com/89.0.4389.23/chromedriver_mac64.zip\n",
      "[WDM] - Driver has been saved in cache [/Users/Howard/.wdm/drivers/chromedriver/mac64/89.0.4389.23]\n"
     ]
    }
   ],
   "source": [
    "executable_path = {'executable_path': ChromeDriverManager().install()}\n",
    "browser = Browser('chrome', **executable_path, headless=False)"
   ]
  },
  {
   "cell_type": "code",
   "execution_count": 3,
   "metadata": {},
   "outputs": [],
   "source": [
    "url = 'https://mars.nasa.gov/news/'\n",
    "browser.visit(url)\n",
    "# HTML object\n",
    "html = browser.html\n",
    "# Parse HTML with Beautiful Soup\n",
    "soup = bs(html, 'html.parser')"
   ]
  },
  {
   "cell_type": "code",
   "execution_count": 45,
   "metadata": {},
   "outputs": [
    {
     "output_type": "stream",
     "name": "stdout",
     "text": [
      "December 17, 2020\n"
     ]
    }
   ],
   "source": [
    "results = soup.find_all('div', class_=\"list_text\")\n",
    "# date = results.find('div', class_=\"list_date\")\n",
    "# for result in results:\n",
    "date = result.find('div', class_='list_date').text\n",
    "print(date)"
   ]
  },
  {
   "cell_type": "code",
   "execution_count": 58,
   "metadata": {},
   "outputs": [
    {
     "output_type": "stream",
     "name": "stdout",
     "text": [
      "March 23, 2021\nNASA Ingenuity Mars Helicopter Prepares for First Flight\nNow uncocooned from its protective carbon-fiber shield, the helicopter is being readied for its next steps.  \n"
     ]
    }
   ],
   "source": [
    "date = soup.find('div', class_=\"list_date\").text\n",
    "title = results[0].find('a').text\n",
    "summary = soup.find('div', class_=\"article_teaser_body\").text\n",
    "print(date)\n",
    "print(title)\n",
    "print(summary)"
   ]
  },
  {
   "cell_type": "code",
   "execution_count": 41,
   "metadata": {},
   "outputs": [
    {
     "output_type": "execute_result",
     "data": {
      "text/plain": [
       "'NASA Ingenuity Mars Helicopter Prepares for First Flight'"
      ]
     },
     "metadata": {},
     "execution_count": 41
    }
   ],
   "source": [
    "title_list = soup.find_all('div', class_=\"content_title\")\n",
    "title = title[1].text\n",
    "title"
   ]
  },
  {
   "cell_type": "code",
   "execution_count": 51,
   "metadata": {},
   "outputs": [
    {
     "output_type": "execute_result",
     "data": {
      "text/plain": [
       "[<div class=\"list_text\"><div class=\"list_date\">March 23, 2021</div><div class=\"content_title\"><a href=\"/news/8896/nasa-ingenuity-mars-helicopter-prepares-for-first-flight/\" target=\"_self\">NASA Ingenuity Mars Helicopter Prepares for First Flight</a></div><div class=\"article_teaser_body\">Now uncocooned from its protective carbon-fiber shield, the helicopter is being readied for its next steps.  </div></div>,\n",
       " <div class=\"list_text\"><div class=\"list_date\">March 17, 2021</div><div class=\"content_title\"><a href=\"/news/8892/another-first-perseverance-captures-the-sounds-of-driving-on-mars/\" target=\"_self\">Another First: Perseverance Captures the Sounds of Driving on Mars</a></div><div class=\"article_teaser_body\">NASA’s newest rover recorded audio of itself crunching over the surface of the Red Planet, adding a whole new dimension to Mars exploration.</div></div>,\n",
       " <div class=\"list_text\"><div class=\"list_date\">March 17, 2021</div><div class=\"content_title\"><a href=\"/news/8891/nasa-to-host-briefing-to-preview-first-mars-helicopter-flights/\" target=\"_self\">NASA to Host Briefing to Preview First Mars Helicopter Flights</a></div><div class=\"article_teaser_body\">Members of the projects will lay out the steps necessary before the helicopter attempts its historic test flights. </div></div>,\n",
       " <div class=\"list_text\"><div class=\"list_date\">March 16, 2021</div><div class=\"content_title\"><a href=\"/news/8888/new-study-challenges-long-held-theory-of-fate-of-mars-water/\" target=\"_self\">New Study Challenges Long-Held Theory of Fate of Mars' Water</a></div><div class=\"article_teaser_body\">The new science results indicate that a large quantity of the Red Planet’s water is trapped in its crust rather than having escaped into space.</div></div>,\n",
       " <div class=\"list_text\"><div class=\"list_date\">March 11, 2021</div><div class=\"content_title\"><a href=\"/news/8886/nasas-perseverance-mars-rover-mission-honors-navajo-language/\" target=\"_self\">NASA's Perseverance Mars Rover Mission Honors Navajo Language</a></div><div class=\"article_teaser_body\">Working with the Navajo Nation, the rover team has named features on Mars with words from the Navajo language.</div></div>,\n",
       " <div class=\"list_text\"><div class=\"list_date\">March 10, 2021</div><div class=\"content_title\"><a href=\"/news/8885/perseverance-rovers-supercam-science-instrument-delivers-first-results/\" target=\"_self\">Perseverance Rover's SuperCam Science Instrument Delivers First Results</a></div><div class=\"article_teaser_body\">Data from the powerful science tool includes sounds of its laser zapping a rock in order to test what it’s made of.</div></div>,\n",
       " <div class=\"list_text\"><div class=\"list_date\">March  5, 2021</div><div class=\"content_title\"><a href=\"/news/8882/nasas-perseverance-drives-on-mars-terrain-for-first-time/\" target=\"_self\">NASA's Perseverance Drives on Mars' Terrain for First Time</a></div><div class=\"article_teaser_body\">The first trek of the agency’s largest, most advanced rover yet on the Red Planet marks a major milestone before science operations get under way.</div></div>,\n",
       " <div class=\"list_text\"><div class=\"list_date\">March  5, 2021</div><div class=\"content_title\"><a href=\"/news/8881/media-telecon-materials-march-5-2021/\" target=\"_self\">Media Telecon Materials - March 5, 2021</a></div><div class=\"article_teaser_body\">Mission team members are participating in a virtual teleconference to discuss milestones achieved so far since the Feb. 18 landing and those to come.</div></div>,\n",
       " <div class=\"list_text\"><div class=\"list_date\">March  4, 2021</div><div class=\"content_title\"><a href=\"/news/8880/nasa-awards-mars-ascent-propulsion-system-contract-for-sample-return/\" target=\"_self\">NASA Awards Mars Ascent Propulsion System Contract for Sample Return</a></div><div class=\"article_teaser_body\">The award moves NASA and ESA a step closer to realizing Mars Sample Return, an ambitious planetary exploration program that will build upon decades of science, knowledge, and experience.</div></div>,\n",
       " <div class=\"list_text\"><div class=\"list_date\">March  3, 2021</div><div class=\"content_title\"><a href=\"/news/8878/nasa-to-provide-update-on-perseverance-firsts-since-mars-landing/\" target=\"_self\">NASA to Provide Update on Perseverance ‘Firsts' Since Mars Landing </a></div><div class=\"article_teaser_body\">Mission team members are participating in a virtual teleconference to discuss milestones achieved so far since the Feb. 18 landing and those to come.</div></div>,\n",
       " <div class=\"list_text\"><div class=\"list_date\">February 25, 2021</div><div class=\"content_title\"><a href=\"/news/8875/testing-proves-its-worth-with-successful-mars-parachute-deployment/\" target=\"_self\">Testing Proves Its Worth With Successful Mars Parachute Deployment</a></div><div class=\"article_teaser_body\">The giant canopy that helped land Perseverance on Mars was tested here on Earth at NASA’s Wallops Flight Facility in Virginia.</div></div>,\n",
       " <div class=\"list_text\"><div class=\"list_date\">February 24, 2021</div><div class=\"content_title\"><a href=\"/news/8873/nasas-perseverance-rover-gives-high-definition-panoramic-view-of-landing-site/\" target=\"_self\">NASA's Perseverance Rover Gives High-Definition Panoramic View of Landing Site</a></div><div class=\"article_teaser_body\">A 360-degree panorama taken by the rover’s Mastcam-Z instrument will be discussed during a public video chat this Thursday.</div></div>,\n",
       " <div class=\"list_text\"><div class=\"list_date\">February 23, 2021</div><div class=\"content_title\"><a href=\"/news/8872/nearly-11-million-names-of-earthlings-are-on-mars-perseverance/\" target=\"_self\">Nearly 11 Million Names of Earthlings are on Mars Perseverance</a></div><div class=\"article_teaser_body\">When the Perseverance rover safely touched down on the Martian surface, inside Jezero Crater, on Feb. 18, 2021, it was also a safe landing for the nearly 11 million names on board.</div></div>,\n",
       " <div class=\"list_text\"><div class=\"list_date\">February 22, 2021</div><div class=\"content_title\"><a href=\"/news/8870/nasas-mars-perseverance-rover-provides-front-row-seat-to-landing-first-audio-recording-of-red-planet/\" target=\"_self\">NASA's Mars Perseverance Rover Provides Front-Row Seat to Landing, First Audio Recording of Red Planet </a></div><div class=\"article_teaser_body\">The agency’s newest rover captured first-of-its kind footage of its Feb. 18 touchdown and has recorded audio of Martian wind.\n",
       " \n",
       " </div></div>,\n",
       " <div class=\"list_text\"><div class=\"list_date\">February 22, 2021</div><div class=\"content_title\"><a href=\"/news/8868/nasa-to-reveal-new-video-images-from-mars-perseverance-rover/\" target=\"_self\">NASA to Reveal New Video, Images From Mars Perseverance Rover</a></div><div class=\"article_teaser_body\">First-of-its kind footage from the agency’s newest rover will be presented during a briefing this morning.</div></div>,\n",
       " <div class=\"list_text\"><div class=\"list_date\">February 20, 2021</div><div class=\"content_title\"><a href=\"/news/8867/nasas-mars-helicopter-reports-in/\" target=\"_self\">NASA's Mars Helicopter Reports In </a></div><div class=\"article_teaser_body\">The technology demonstration has phoned home from where it is attached to the belly of NASA’s Perseverance rover. </div></div>,\n",
       " <div class=\"list_text\"><div class=\"list_date\">February 19, 2021</div><div class=\"content_title\"><a href=\"/news/8866/nasas-perseverance-rover-sends-sneak-peek-of-mars-landing/\" target=\"_self\">NASA's Perseverance Rover Sends Sneak Peek of Mars Landing</a></div><div class=\"article_teaser_body\">The six-wheeled robot’s latest data since touching down yesterday include a hi-res image captured as the rover’s jetpack lowered it to the ground.</div></div>,\n",
       " <div class=\"list_text\"><div class=\"list_date\">February 18, 2021</div><div class=\"content_title\"><a href=\"/news/8865/touchdown-nasas-mars-perseverance-rover-safely-lands-on-red-planet/\" target=\"_self\">Touchdown! NASA's Mars Perseverance Rover Safely Lands on Red Planet</a></div><div class=\"article_teaser_body\">The agency’s latest and most complex mission to the Red Planet has touched down at Jezero Crater. Now it’s time to begin testing the health of the rover.  </div></div>,\n",
       " <div class=\"list_text\"><div class=\"list_date\">February 17, 2021</div><div class=\"content_title\"><a href=\"/news/8863/searching-for-life-in-nasas-perseverance-mars-samples/\" target=\"_self\">Searching for Life in NASA's Perseverance Mars Samples</a></div><div class=\"article_teaser_body\">When the agency’s newest rover mission searches for fossilized microscopic life on the Red Planet, how will scientists know whether they’ve found it?</div></div>,\n",
       " <div class=\"list_text\"><div class=\"list_date\">February 16, 2021</div><div class=\"content_title\"><a href=\"/news/8861/the-mars-relay-network-connects-us-to-nasas-martian-explorers/\" target=\"_self\">The Mars Relay Network Connects Us to NASA's Martian Explorers</a></div><div class=\"article_teaser_body\">A tightly choreographed dance between NASA’s Deep Space Network and Mars orbiters will keep the agency’s Perseverance in touch with Earth during landing and beyond.</div></div>,\n",
       " <div class=\"list_text\"><div class=\"list_date\">February 16, 2021</div><div class=\"content_title\"><a href=\"/news/8860/nasas-next-mars-rover-is-ready-for-the-most-precise-landing-yet/\" target=\"_self\">NASA's Next Mars Rover Is Ready for the Most Precise Landing Yet</a></div><div class=\"article_teaser_body\">What to expect when the Mars 2020 Perseverance rover arrives at the Red Planet on Feb. 18, 2021.</div></div>,\n",
       " <div class=\"list_text\"><div class=\"list_date\">February 12, 2021</div><div class=\"content_title\"><a href=\"/news/8859/sensors-prepare-to-collect-data-as-perseverance-enters-mars-atmosphere/\" target=\"_self\">Sensors Prepare to Collect Data as Perseverance Enters Mars' Atmosphere</a></div><div class=\"article_teaser_body\">Technology will collect critical data about the harsh entry environment during Perseverance’s entry next Thursday.</div></div>,\n",
       " <div class=\"list_text\"><div class=\"list_date\">February 12, 2021</div><div class=\"content_title\"><a href=\"/news/8858/insight-is-meeting-the-challenge-of-winter-on-dusty-mars/\" target=\"_self\">InSight Is Meeting the Challenge of Winter on Dusty Mars</a></div><div class=\"article_teaser_body\">As dust collects on the solar panels and winter comes to Elysium Planitia, the team is following a plan to reduce science operations in order to keep the lander safe.</div></div>,\n",
       " <div class=\"list_text\"><div class=\"list_date\">February 12, 2021</div><div class=\"content_title\"><a href=\"/news/8857/nasa-invites-public-to-share-thrill-of-mars-perseverance-rover-landing/\" target=\"_self\">NASA Invites Public to Share Thrill of Mars Perseverance Rover Landing</a></div><div class=\"article_teaser_body\">Mark your calendars for live landing commentary, news briefings, livestreamed Q&amp;As, virtual watch parties, student activities, and more.</div></div>,\n",
       " <div class=\"list_text\"><div class=\"list_date\">February  8, 2021</div><div class=\"content_title\"><a href=\"/news/8852/tricky-terrain-helping-to-assure-a-safe-rover-landing/\" target=\"_self\">Tricky Terrain: Helping to Assure a Safe Rover Landing</a></div><div class=\"article_teaser_body\">How two new technologies will help Perseverance, NASA’s most sophisticated rover yet, touch down onto the surface of Mars this month.</div></div>,\n",
       " <div class=\"list_text\"><div class=\"list_date\">February  8, 2021</div><div class=\"content_title\"><a href=\"/news/8851/where-should-future-astronauts-land-on-mars-follow-the-water/\" target=\"_self\">Where Should Future Astronauts Land on Mars? Follow the Water</a></div><div class=\"article_teaser_body\">A new NASA paper provides the most detailed map to date of near-surface water ice on the Red Planet.</div></div>,\n",
       " <div class=\"list_text\"><div class=\"list_date\">February  2, 2021</div><div class=\"content_title\"><a href=\"/news/8848/nasas-perseverance-pays-off-back-home/\" target=\"_self\">NASA's Perseverance Pays Off Back Home</a></div><div class=\"article_teaser_body\">Even as the Perseverance rover approaches Mars, technology on board is paying off on Earth.</div></div>,\n",
       " <div class=\"list_text\"><div class=\"list_date\">February  1, 2021</div><div class=\"content_title\"><a href=\"/news/8846/could-the-surface-of-phobos-reveal-secrets-of-the-martian-past/\" target=\"_self\">Could the Surface of Phobos Reveal Secrets of the Martian Past?</a></div><div class=\"article_teaser_body\">The Martian moon Phobos orbits through a stream of charged atoms and molecules that flow off the Red Planet’s atmosphere, new research shows.</div></div>,\n",
       " <div class=\"list_text\"><div class=\"list_date\">January 28, 2021</div><div class=\"content_title\"><a href=\"/news/8844/nasas-maven-continues-to-advance-mars-science-and-telecommunications-relay-efforts/\" target=\"_self\">NASA's MAVEN Continues to Advance Mars Science and Telecommunications Relay Efforts</a></div><div class=\"article_teaser_body\">With a suite of new national and international spacecraft primed to explore the Red Planet after their arrival next month, NASA’s MAVEN mission is ready to provide support and continue its study of the Martian atmosphere.</div></div>,\n",
       " <div class=\"list_text\"><div class=\"list_date\">January 27, 2021</div><div class=\"content_title\"><a href=\"/news/8843/nasas-perseverance-rover-22-days-from-mars-landing/\" target=\"_self\">NASA's Perseverance Rover 22 Days From Mars Landing</a></div><div class=\"article_teaser_body\">Seven minutes of harrowing descent to the Red Planet is in the not-so-distant future for the agency’s Mars 2020 mission.  </div></div>,\n",
       " <div class=\"list_text\"><div class=\"list_date\">January 21, 2021</div><div class=\"content_title\"><a href=\"/news/8840/6-things-to-know-about-nasas-mars-helicopter-on-its-way-to-mars/\" target=\"_self\">6 Things to Know About NASA's Mars Helicopter on Its Way to Mars</a></div><div class=\"article_teaser_body\">Ingenuity, a technology experiment, is preparing to attempt the first powered, controlled flight on the Red Planet.</div></div>,\n",
       " <div class=\"list_text\"><div class=\"list_date\">January 15, 2021</div><div class=\"content_title\"><a href=\"/news/8837/nasa-to-host-virtual-briefing-on-february-perseverance-mars-rover-landing/\" target=\"_self\">NASA to Host Virtual Briefing on February Perseverance Mars Rover Landing</a></div><div class=\"article_teaser_body\">NASA leadership and members of the mission will discuss the agency’s latest rover, which touches down on the Red Planet on Feb. 18.</div></div>,\n",
       " <div class=\"list_text\"><div class=\"list_date\">January 14, 2021</div><div class=\"content_title\"><a href=\"/news/8836/nasa-insights-mole-ends-its-journey-on-mars/\" target=\"_self\">NASA InSight's ‘Mole' Ends Its Journey on Mars</a></div><div class=\"article_teaser_body\">The heat probe hasn’t been able to gain the friction it needs to dig, but the mission has been granted an extension to carry on with its other science.</div></div>,\n",
       " <div class=\"list_text\"><div class=\"list_date\">January 13, 2021</div><div class=\"content_title\"><a href=\"/news/8834/mars-2020-perseverance-rover-to-capture-sounds-from-the-red-planet/\" target=\"_self\">Mars 2020 Perseverance Rover to Capture Sounds From the Red Planet</a></div><div class=\"article_teaser_body\">Audio gathered by the mission may not sound quite the same on Mars as it would to our ears on Earth. A new interactive online experience lets you sample the difference.</div></div>,\n",
       " <div class=\"list_text\"><div class=\"list_date\">January 12, 2021</div><div class=\"content_title\"><a href=\"/news/8832/nasas-curiosity-rover-reaches-its-3000th-day-on-mars/\" target=\"_self\">NASA's Curiosity Rover Reaches Its 3,000th Day on Mars</a></div><div class=\"article_teaser_body\">As the rover has continued to ascend Mount Sharp, it’s found distinctive benchlike rock formations.</div></div>,\n",
       " <div class=\"list_text\"><div class=\"list_date\">January  8, 2021</div><div class=\"content_title\"><a href=\"/news/8830/celebrate-the-perseverance-rover-landing-with-nasas-student-challenge/\" target=\"_self\">Celebrate the Perseverance Rover Landing With NASA's Student Challenge</a></div><div class=\"article_teaser_body\">The rover touches down on the Red Planet next month, and students are invited to join the excitement by designing, building, and landing their own Mars mission. NASA can help.</div></div>,\n",
       " <div class=\"list_text\"><div class=\"list_date\">January  8, 2021</div><div class=\"content_title\"><a href=\"/news/8829/nasa-extends-exploration-for-two-planetary-science-missions/\" target=\"_self\">NASA Extends Exploration for Two Planetary Science Missions</a></div><div class=\"article_teaser_body\">The missions – Juno and InSight – have each increased our understanding of our solar system, as well as spurred new sets of diverse questions.</div></div>,\n",
       " <div class=\"list_text\"><div class=\"list_date\">January  6, 2021</div><div class=\"content_title\"><a href=\"/news/8826/7-things-to-know-about-the-nasa-rover-about-to-land-on-mars/\" target=\"_self\">7 Things to Know About the NASA Rover About to Land on Mars</a></div><div class=\"article_teaser_body\">The Mars 2020 Perseverance rover, which has started its approach to the Red Planet, will help answer the next logical question in Mars exploration.</div></div>,\n",
       " <div class=\"list_text\"><div class=\"list_date\">December 22, 2020</div><div class=\"content_title\"><a href=\"/news/8822/a-martian-roundtrip-nasas-perseverance-rover-sample-tubes/\" target=\"_self\">A Martian Roundtrip: NASA's Perseverance Rover Sample Tubes</a></div><div class=\"article_teaser_body\">Marvels of engineering, the rover's sample tubes must be tough enough to safely bring Red Planet samples on the long journey back to Earth in immaculate condition. </div></div>,\n",
       " <div class=\"list_text\"><div class=\"list_date\">December 17, 2020</div><div class=\"content_title\"><a href=\"/news/8819/nasa-moves-forward-with-campaign-to-return-mars-samples-to-earth/\" target=\"_self\">NASA Moves Forward With Campaign to Return Mars Samples to Earth</a></div><div class=\"article_teaser_body\">During this next phase, the program will mature critical technologies and make critical design decisions as well as assess industry partnerships.</div></div>]"
      ]
     },
     "metadata": {},
     "execution_count": 51
    }
   ],
   "source": [
    "results"
   ]
  },
  {
   "cell_type": "code",
   "execution_count": 57,
   "metadata": {},
   "outputs": [
    {
     "output_type": "execute_result",
     "data": {
      "text/plain": [
       "'NASA Ingenuity Mars Helicopter Prepares for First Flight'"
      ]
     },
     "metadata": {},
     "execution_count": 57
    }
   ],
   "source": [
    "article = results[0].find('a').text\n",
    "article"
   ]
  },
  {
   "cell_type": "code",
   "execution_count": 59,
   "metadata": {},
   "outputs": [],
   "source": [
    "browser.quit()"
   ]
  },
  {
   "cell_type": "code",
   "execution_count": null,
   "metadata": {},
   "outputs": [],
   "source": []
  }
 ]
}