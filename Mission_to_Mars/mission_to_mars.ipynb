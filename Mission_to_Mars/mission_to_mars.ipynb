{
 "metadata": {
  "language_info": {
   "codemirror_mode": {
    "name": "ipython",
    "version": 3
   },
   "file_extension": ".py",
   "mimetype": "text/x-python",
   "name": "python",
   "nbconvert_exporter": "python",
   "pygments_lexer": "ipython3",
   "version": "3.6.10-final"
  },
  "orig_nbformat": 2,
  "kernelspec": {
   "name": "python3",
   "display_name": "Python 3.6.10 64-bit ('PythonData': conda)",
   "metadata": {
    "interpreter": {
     "hash": "39cf81ff75551f3ea7268a5731633db08a0e59f6bdbd7d1519c41c672b5e67ae"
    }
   }
  }
 },
 "nbformat": 4,
 "nbformat_minor": 2,
 "cells": [
  {
   "cell_type": "code",
   "execution_count": 1,
   "metadata": {},
   "outputs": [],
   "source": [
    "# Dependencies\n",
    "import pandas as pd\n",
    "from bs4 import BeautifulSoup as bs\n",
    "import requests\n",
    "import pymongo\n",
    "from splinter import Browser\n",
    "from webdriver_manager.chrome import ChromeDriverManager"
   ]
  },
  {
   "source": [
    "# First part of the homework #\n",
    "## find the top news story headline and the summary ##"
   ],
   "cell_type": "markdown",
   "metadata": {}
  },
  {
   "cell_type": "code",
   "execution_count": 2,
   "metadata": {},
   "outputs": [],
   "source": [
    "# Initialize PyMongo to work with MongoDBs\n",
    "conn = 'mongodb://localhost:27017'\n",
    "client = pymongo.MongoClient(conn)"
   ]
  },
  {
   "cell_type": "code",
   "execution_count": 3,
   "metadata": {},
   "outputs": [],
   "source": [
    "# Define database and collection\n",
    "db = client.mars_db\n",
    "collection = db.articles"
   ]
  },
  {
   "cell_type": "code",
   "execution_count": 4,
   "metadata": {},
   "outputs": [],
   "source": [
    "# URL of page to be scraped\n",
    "url = 'https://mars.nasa.gov/news/'\n",
    "\n",
    "# Retrieve page with the requests module\n",
    "response = requests.get(url)\n",
    "# Create BeautifulSoup object; parse with 'html.parser'\n",
    "soup = bs(response.text, 'lxml')"
   ]
  },
  {
   "cell_type": "code",
   "execution_count": 5,
   "metadata": {},
   "outputs": [
    {
     "output_type": "stream",
     "name": "stdout",
     "text": [
      "-----------------\n\n\nNASA Ingenuity Mars Helicopter Prepares for First Flight\n\n\n\nNow uncocooned from its protective carbon-fiber shield, the helicopter is being readied for its next steps.  \n\nNone\n-----------------\n\n\nNASA's Perseverance Drives on Mars' Terrain for First Time\n\n\n\nThe first trek of the agency’s largest, most advanced rover yet on the Red Planet marks a major milestone before science operations get under way.\n\nNone\n-----------------\n\n\nNASA Awards Mars Ascent Propulsion System Contract for Sample Return\n\n\n\nThe award moves NASA and ESA a step closer to realizing Mars Sample Return, an ambitious planetary exploration program that will build upon decades of science, knowledge, and experience.\n\nNone\n-----------------\n\n\nNASA to Provide Update on Perseverance ‘Firsts' Since Mars Landing \n\n\n\nMission team members are participating in a virtual teleconference to discuss milestones achieved so far since the Feb. 18 landing and those to come.\n\nNone\n-----------------\n\n\nNASA's Mars Perseverance Rover Provides Front-Row Seat to Landing, First Audio Recording of Red Planet \n\n\n\nThe agency’s newest rover captured first-of-its kind footage of its Feb. 18 touchdown and has recorded audio of Martian wind.\n\n\n\nNone\n-----------------\n\n\nNASA to Reveal New Video, Images From Mars Perseverance Rover\n\n\n\nFirst-of-its kind footage from the agency’s newest rover will be presented during a briefing this morning.\n\nNone\n"
     ]
    }
   ],
   "source": [
    "# Retrieve the parent divs for all articles\n",
    "results = soup.find_all('div', class_='slide')\n",
    "\n",
    "# loop through results to get items\n",
    "for result in results:\n",
    "\n",
    "    title = result.find('div', class_='content_title').text\n",
    "\n",
    "    paragraph = result.find('div', class_='rollover_description_inner').text\n",
    "\n",
    "    date = result.find('div', class_='list_date')\n",
    "\n",
    "\n",
    "    print('-----------------')\n",
    "    print(title)\n",
    "    print(paragraph)\n",
    "    print(date) #date isn't found.  on webpage there is a div but not in response"
   ]
  },
  {
   "cell_type": "code",
   "execution_count": 6,
   "metadata": {},
   "outputs": [
    {
     "output_type": "stream",
     "name": "stdout",
     "text": [
      "----------\n\n\nNASA Ingenuity Mars Helicopter Prepares for First Flight\n\n\n\nNow uncocooned from its protective carbon-fiber shield, the helicopter is being readied for its next steps.  \n\n"
     ]
    }
   ],
   "source": [
    "# assign response to variables and print\n",
    "\n",
    "news_title = soup.find('div', class_='content_title').text\n",
    "news_p = soup.find('div', class_='rollover_description_inner').text\n",
    "\n",
    "print('----------')\n",
    "print(news_title)\n",
    "print(news_p)"
   ]
  },
  {
   "cell_type": "code",
   "execution_count": 7,
   "metadata": {},
   "outputs": [
    {
     "output_type": "stream",
     "name": "stdout",
     "text": [
      "\n\nNASA Ingenuity Mars Helicopter Prepares for First Flight\n\n\n\nNow uncocooned from its protective carbon-fiber shield, the helicopter is being readied for its next steps.  \n\n"
     ]
    }
   ],
   "source": [
    "print(news_title)\n",
    "print(news_p)"
   ]
  },
  {
   "source": [
    " # Second part of homework (get the featured image url from JPL page)#"
   ],
   "cell_type": "markdown",
   "metadata": {}
  },
  {
   "cell_type": "code",
   "execution_count": 8,
   "metadata": {},
   "outputs": [
    {
     "output_type": "stream",
     "name": "stderr",
     "text": [
      "[WDM] - ====== WebDriver manager ======\n",
      "\n",
      "\n",
      "[WDM] - Current google-chrome version is 89.0.4389\n",
      "[WDM] - Get LATEST driver version for 89.0.4389\n",
      "[WDM] - Driver [/Users/Howard/.wdm/drivers/chromedriver/mac64/89.0.4389.23/chromedriver] found in cache\n"
     ]
    }
   ],
   "source": [
    "executable_path = {'executable_path': ChromeDriverManager().install()}\n",
    "browser = Browser('chrome', **executable_path, headless=False)"
   ]
  },
  {
   "cell_type": "code",
   "execution_count": 9,
   "metadata": {},
   "outputs": [],
   "source": [
    "url = 'https://data-class-jpl-space.s3.amazonaws.com/JPL_Space/index.html'\n",
    "browser.visit(url)"
   ]
  },
  {
   "cell_type": "code",
   "execution_count": 10,
   "metadata": {},
   "outputs": [],
   "source": [
    "# HTML object\n",
    "html = browser.html\n",
    "\n",
    "# Parse HTML with Beautiful Soup\n",
    "soup = bs(html, 'html.parser')\n",
    "# find the parent div of the image\n",
    "img_url = soup.find('div', class_='floating_text_area')\n",
    "# find the href within the div\n",
    "ref = img_url.find('a')['href']\n",
    "# build the final link for the featured image\n",
    "featured_image_url = ['https://data-class-jpl-space.s3.amazonaws.com/JPL_Space/' + ref]"
   ]
  },
  {
   "cell_type": "code",
   "execution_count": 11,
   "metadata": {},
   "outputs": [
    {
     "output_type": "stream",
     "name": "stdout",
     "text": [
      "['https://data-class-jpl-space.s3.amazonaws.com/JPL_Space/image/featured/mars1.jpg']\n"
     ]
    }
   ],
   "source": [
    "print(featured_image_url)"
   ]
  },
  {
   "cell_type": "code",
   "execution_count": 12,
   "metadata": {},
   "outputs": [],
   "source": [
    "browser.quit()"
   ]
  },
  {
   "source": [
    "# Third part of homework (use pandas to get table from webpage)#"
   ],
   "cell_type": "markdown",
   "metadata": {}
  },
  {
   "cell_type": "code",
   "execution_count": 13,
   "metadata": {},
   "outputs": [],
   "source": [
    "url = 'https://space-facts.com/mars/'"
   ]
  },
  {
   "cell_type": "code",
   "execution_count": 14,
   "metadata": {},
   "outputs": [
    {
     "output_type": "execute_result",
     "data": {
      "text/plain": [
       "                      0                              1\n",
       "0  Equatorial Diameter:                       6,792 km\n",
       "1       Polar Diameter:                       6,752 km\n",
       "2                 Mass:  6.39 × 10^23 kg (0.11 Earths)\n",
       "3                Moons:            2 (Phobos & Deimos)\n",
       "4       Orbit Distance:       227,943,824 km (1.38 AU)\n",
       "5         Orbit Period:           687 days (1.9 years)\n",
       "6  Surface Temperature:                   -87 to -5 °C\n",
       "7         First Record:              2nd millennium BC\n",
       "8          Recorded By:           Egyptian astronomers"
      ],
      "text/html": "<div>\n<style scoped>\n    .dataframe tbody tr th:only-of-type {\n        vertical-align: middle;\n    }\n\n    .dataframe tbody tr th {\n        vertical-align: top;\n    }\n\n    .dataframe thead th {\n        text-align: right;\n    }\n</style>\n<table border=\"1\" class=\"dataframe\">\n  <thead>\n    <tr style=\"text-align: right;\">\n      <th></th>\n      <th>0</th>\n      <th>1</th>\n    </tr>\n  </thead>\n  <tbody>\n    <tr>\n      <th>0</th>\n      <td>Equatorial Diameter:</td>\n      <td>6,792 km</td>\n    </tr>\n    <tr>\n      <th>1</th>\n      <td>Polar Diameter:</td>\n      <td>6,752 km</td>\n    </tr>\n    <tr>\n      <th>2</th>\n      <td>Mass:</td>\n      <td>6.39 × 10^23 kg (0.11 Earths)</td>\n    </tr>\n    <tr>\n      <th>3</th>\n      <td>Moons:</td>\n      <td>2 (Phobos &amp; Deimos)</td>\n    </tr>\n    <tr>\n      <th>4</th>\n      <td>Orbit Distance:</td>\n      <td>227,943,824 km (1.38 AU)</td>\n    </tr>\n    <tr>\n      <th>5</th>\n      <td>Orbit Period:</td>\n      <td>687 days (1.9 years)</td>\n    </tr>\n    <tr>\n      <th>6</th>\n      <td>Surface Temperature:</td>\n      <td>-87 to -5 °C</td>\n    </tr>\n    <tr>\n      <th>7</th>\n      <td>First Record:</td>\n      <td>2nd millennium BC</td>\n    </tr>\n    <tr>\n      <th>8</th>\n      <td>Recorded By:</td>\n      <td>Egyptian astronomers</td>\n    </tr>\n  </tbody>\n</table>\n</div>"
     },
     "metadata": {},
     "execution_count": 14
    }
   ],
   "source": [
    "\n",
    "tables = pd.read_html(url)\n",
    "table = tables[0]\n",
    "table"
   ]
  },
  {
   "cell_type": "code",
   "execution_count": 15,
   "metadata": {},
   "outputs": [],
   "source": [
    "table.to_html('table.html')"
   ]
  },
  {
   "cell_type": "code",
   "execution_count": 16,
   "metadata": {},
   "outputs": [],
   "source": [
    "!open table.html"
   ]
  },
  {
   "source": [
    "# Mars Hemispheres #"
   ],
   "cell_type": "markdown",
   "metadata": {}
  },
  {
   "cell_type": "code",
   "execution_count": 18,
   "metadata": {},
   "outputs": [],
   "source": [
    "# URL of page to be scraped\n",
    "url = 'https://astrogeology.usgs.gov/search/results?q=hemisphere+enhanced&k1=target&v1=Mars'\n",
    "\n",
    "# Retrieve page with the requests module\n",
    "response = requests.get(url)\n",
    "# Create BeautifulSoup object; parse with 'html.parser'\n",
    "soup = bs(response.text, 'html.parser')\n"
   ]
  },
  {
   "cell_type": "code",
   "execution_count": 20,
   "metadata": {},
   "outputs": [],
   "source": [
    "results = soup.find_all('div', class_='item')"
   ]
  },
  {
   "cell_type": "code",
   "execution_count": 49,
   "metadata": {},
   "outputs": [
    {
     "output_type": "stream",
     "name": "stdout",
     "text": [
      "Cerberus Hemisphere Enhanced\nhttps://astrogeology.usgs.gov//search/map/Mars/Viking/cerberus_enhanced.tif\nSchiaparelli Hemisphere Enhanced\nhttps://astrogeology.usgs.gov//search/map/Mars/Viking/schiaparelli_enhanced.tif\nSyrtis Major Hemisphere Enhanced\nhttps://astrogeology.usgs.gov//search/map/Mars/Viking/syrtis_major_enhanced.tif\nValles Marineris Hemisphere Enhanced\nhttps://astrogeology.usgs.gov//search/map/Mars/Viking/valles_marineris_enhanced.tif\n"
     ]
    }
   ],
   "source": [
    "# iterate through results to get title and href of images\n",
    "# found solution for finding href here:  https://stackoverflow.com/questions/38570411/how-to-scrape-href-with-python-3-5-and-beautifulsoup\n",
    "\n",
    "base = 'https://astrogeology.usgs.gov/'\n",
    "for result in results:\n",
    "    print(result.find('h3').text)\n",
    "    print(base + (result.a['href']) + '.tif')\n"
   ]
  },
  {
   "cell_type": "code",
   "execution_count": 51,
   "metadata": {},
   "outputs": [
    {
     "output_type": "stream",
     "name": "stdout",
     "text": [
      "['https://astrogeology.usgs.gov//search/map/Mars/Viking/cerberus_enhanced.tif', 'https://astrogeology.usgs.gov//search/map/Mars/Viking/schiaparelli_enhanced.tif', 'https://astrogeology.usgs.gov//search/map/Mars/Viking/syrtis_major_enhanced.tif', 'https://astrogeology.usgs.gov//search/map/Mars/Viking/valles_marineris_enhanced.tif']\n['Cerberus Hemisphere Enhanced', 'Schiaparelli Hemisphere Enhanced', 'Syrtis Major Hemisphere Enhanced', 'Valles Marineris Hemisphere Enhanced']\n"
     ]
    }
   ],
   "source": [
    " title_obj = [i.h3.text for i in results]\n",
    " href_obj = [base + i.a['href'] + '.tif' for i in results]\n",
    "#  for i in soup.find_all('div', class_='item'):\n",
    "#      print(i.a['href'])\n",
    "print(href_obj)\n",
    "print(title_obj)"
   ]
  },
  {
   "cell_type": "code",
   "execution_count": 55,
   "metadata": {},
   "outputs": [
    {
     "output_type": "execute_result",
     "data": {
      "text/plain": [
       "{'title': (['Cerberus Hemisphere Enhanced',\n",
       "   'Schiaparelli Hemisphere Enhanced',\n",
       "   'Syrtis Major Hemisphere Enhanced',\n",
       "   'Valles Marineris Hemisphere Enhanced'],\n",
       "  ['https://astrogeology.usgs.gov//search/map/Mars/Viking/cerberus_enhanced.tif',\n",
       "   'https://astrogeology.usgs.gov//search/map/Mars/Viking/schiaparelli_enhanced.tif',\n",
       "   'https://astrogeology.usgs.gov//search/map/Mars/Viking/syrtis_major_enhanced.tif',\n",
       "   'https://astrogeology.usgs.gov//search/map/Mars/Viking/valles_marineris_enhanced.tif']),\n",
       " 'img_url': (['Cerberus Hemisphere Enhanced',\n",
       "   'Schiaparelli Hemisphere Enhanced',\n",
       "   'Syrtis Major Hemisphere Enhanced',\n",
       "   'Valles Marineris Hemisphere Enhanced'],\n",
       "  ['https://astrogeology.usgs.gov//search/map/Mars/Viking/cerberus_enhanced.tif',\n",
       "   'https://astrogeology.usgs.gov//search/map/Mars/Viking/schiaparelli_enhanced.tif',\n",
       "   'https://astrogeology.usgs.gov//search/map/Mars/Viking/syrtis_major_enhanced.tif',\n",
       "   'https://astrogeology.usgs.gov//search/map/Mars/Viking/valles_marineris_enhanced.tif'])}"
      ]
     },
     "metadata": {},
     "execution_count": 55
    }
   ],
   "source": [
    "hemisphere_image_urls = {}.fromkeys(['title','img_url'],(title_obj, href_obj))\n",
    "hemisphere_image_urls"
   ]
  },
  {
   "cell_type": "code",
   "execution_count": null,
   "metadata": {},
   "outputs": [],
   "source": []
  }
 ]
}